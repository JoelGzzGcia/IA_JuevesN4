{
  "nbformat": 4,
  "nbformat_minor": 0,
  "metadata": {
    "colab": {
      "name": "IA_Ejercicio2_JoelGonzález_1870313.ipynb",
      "provenance": [],
      "collapsed_sections": []
    },
    "kernelspec": {
      "name": "python3",
      "display_name": "Python 3"
    },
    "language_info": {
      "name": "python"
    }
  },
  "cells": [
    {
      "cell_type": "markdown",
      "metadata": {
        "id": "-dU610AiI_fv"
      },
      "source": [
        "# **Actividad 3.-** Ejercicios de Introducción Python, 2da Parte\n",
        "##Facultad de Ingeniería Mecánica y Eléctrica\n",
        "\n",
        "##Universidad Autónoma de Nuevo León\n",
        "\n",
        "**Nombre:** Joel González García\n",
        "\n",
        "**Matrícula:** 1870313\n",
        "\n",
        "**Hora de Clase:** N4"
      ]
    },
    {
      "cell_type": "markdown",
      "metadata": {
        "id": "0xFKhdd6NL0h"
      },
      "source": [
        "## **Ejercicio 1**\n",
        "\n",
        "Ejercicio 1.1: *Piensa en 7 comidas diferente que te gusten. Implementa un programa que pregunte por las 7 comidas, las almacene en una lista y que posteriermente imprima cada una de ellas utilizando uno de los ciclos comentados en clase.*"
      ]
    },
    {
      "cell_type": "code",
      "metadata": {
        "colab": {
          "base_uri": "https://localhost:8080/"
        },
        "id": "wpcr-inpI972",
        "outputId": "0aa5f3a1-914b-4f60-f9b5-5b2e12857b3d"
      },
      "source": [
        "'''\n",
        "Usamos Input\n",
        "'''\n",
        "platillos = input('¿Cuáles diría usted que son sus 7 comidas favoritas? Enlistelas por favor utilizando las comas apropiadas. ')\n",
        "separador = ', '\n",
        "lista = platillos.split(separador)\n",
        "for platillos in lista:\n",
        "  print(platillos)"
      ],
      "execution_count": 1,
      "outputs": [
        {
          "output_type": "stream",
          "name": "stdout",
          "text": [
            "¿Cuáles diría usted que son sus 7 comidas favoritas? Enlistelas por favor utilizando las comas apropiadas. Lasaña, espagueti, camarones, pulpo, caldo tlalpeño, macarrón con queso, ensalada de papa\n",
            "Lasaña\n",
            "espagueti\n",
            "camarones\n",
            "pulpo\n",
            "caldo tlalpeño\n",
            "macarrón con queso\n",
            "ensalada de papa\n"
          ]
        }
      ]
    },
    {
      "cell_type": "markdown",
      "metadata": {
        "id": "e1jS6bxLOcbm"
      },
      "source": [
        "\n",
        "Ejercicio 1.2: *Modifica el ejercicio 1.1 para que imprima cada una de las comidas favoritas junto con una oracición inicial: \"Una de mis comidas favoritas es [comida1]\".*"
      ]
    },
    {
      "cell_type": "code",
      "metadata": {
        "colab": {
          "base_uri": "https://localhost:8080/"
        },
        "id": "Ug2ypBT5OcGO",
        "outputId": "83968563-2117-48a3-be08-d57279545fb8"
      },
      "source": [
        "'''\n",
        "Usamos un for más y con print lo que queramos decir antes de la lista\n",
        "'''\n",
        "for platillos in lista:\n",
        "  print('A usted le gusta comer ' + platillos + ' ¿cierto? ')\n"
      ],
      "execution_count": 4,
      "outputs": [
        {
          "output_type": "stream",
          "name": "stdout",
          "text": [
            "A usted le gusta comer Lasaña ¿cierto? \n",
            "A usted le gusta comer espagueti ¿cierto? \n",
            "A usted le gusta comer camarones ¿cierto? \n",
            "A usted le gusta comer pulpo ¿cierto? \n",
            "A usted le gusta comer caldo tlalpeño ¿cierto? \n",
            "A usted le gusta comer macarrón con queso ¿cierto? \n",
            "A usted le gusta comer ensalada de papa ¿cierto? \n"
          ]
        }
      ]
    },
    {
      "cell_type": "markdown",
      "metadata": {
        "id": "QG2Jq136Ok4P"
      },
      "source": [
        "## **Ejercicio 2**\n",
        "\n",
        "*Crear un juego de piedra, papel o tijera de dos jugadores. El programa preguntará por la opción del jugador 1 y la opción del jugador 2 y dará como resultado quien ganó el juego.*"
      ]
    },
    {
      "cell_type": "code",
      "metadata": {
        "colab": {
          "base_uri": "https://localhost:8080/"
        },
        "id": "4F2vMFOQOy9N",
        "outputId": "d2aa410f-7c45-4189-f431-ca2e04d47379"
      },
      "source": [
        "'''\n",
        "Pedimos a cada jugador ingresar su respuesta\n",
        "'''\n",
        "Player1 = input('Jugador 1, ¿Piedra, Papel o Tijeras?: ')\n",
        "Player2 = input('Jugador 2, ¿Piedra, Papel o Tijeras?: ')\n",
        "\n",
        "'''\n",
        "Agregamos un if para poner las condiciones de victoria para ambos jugadores y empate\n",
        "'''\n",
        "if Player1 == Player2:\n",
        "  print('¡El Resultado ha terminado en un Empate!')\n",
        "\n",
        "elif Player1 == 'Piedra' and Player2 == 'Tijeras':\n",
        "  print('¡El ganador ha sido el Jugador 1!')\n",
        "elif Player1 == 'Papel' and Player2 == 'Piedra':\n",
        "  print('¡El ganador ha sido el Jugador 1!')\n",
        "elif Player1 == 'Tijeras' and Player2 == 'Papel':\n",
        "  print('¡El ganador ha sido el Jugador 1!')\n",
        "\n",
        "elif Player2 == 'Piedra' and Player1 == 'Tijeras':\n",
        "  print('¡El ganador ha sido el Jugador 2!')\n",
        "elif Player2 == 'Papel' and Player1 == 'Piedra':\n",
        "  print('¡El ganador ha sido el Jugador 2!')\n",
        "elif Player2 == 'Tijeras' and Player1 == 'Piedra':\n",
        "  print('¡El ganador ha sido el Jugador 2!')\n",
        "\n",
        "else:\n",
        "  print('Disculpe, limite sus opciones a \"Piedra\", \"Papel\" o \"Tijeras\"')"
      ],
      "execution_count": null,
      "outputs": [
        {
          "output_type": "stream",
          "name": "stdout",
          "text": [
            "Jugador 1, ¿Piedra, Papel o Tijeras?: Tijeras\n",
            "Jugador 2, ¿Piedra, Papel o Tijeras?: Piedra\n",
            "¡El ganador ha sido el Jugador 2!\n"
          ]
        }
      ]
    },
    {
      "cell_type": "markdown",
      "metadata": {
        "id": "lTF5_yexO0nV"
      },
      "source": [
        "## **Ejercicio 3**\n",
        "\n",
        "*Implementar un programa que imprima el siguiente patron:*\n",
        "\n",
        "123456\n",
        "\n",
        "12345\n",
        "\n",
        "1234\n",
        "\n",
        "123\n",
        "\n",
        "12\n",
        "\n",
        "1\n",
        "\n",
        "12\n",
        "\n",
        "123\n",
        "\n",
        "1234\n",
        "\n",
        "12345\n",
        "\n",
        "123456"
      ]
    },
    {
      "cell_type": "code",
      "metadata": {
        "colab": {
          "base_uri": "https://localhost:8080/"
        },
        "id": "KTTdyv64PEgn",
        "outputId": "9c4cb3f4-7ad8-486e-899c-8dd399a0c75b"
      },
      "source": [
        "'''\n",
        "Podemos comenzar dando identidad al primer orden de números\n",
        "'''\n",
        "número = 123456\n",
        "'''\n",
        "Y usar un ciclo con for\n",
        "'''\n",
        "for n in range(6, 0, -1):\n",
        "  print(número)\n",
        "  número -= n\n",
        "  número //= 10 \n",
        "  if número == 1:\n",
        "    for x in range(2, 7):\n",
        "      print(número)\n",
        "      número *= 10\n",
        "      número += x"
      ],
      "execution_count": null,
      "outputs": [
        {
          "output_type": "stream",
          "name": "stdout",
          "text": [
            "123456\n",
            "12345\n",
            "1234\n",
            "123\n",
            "12\n",
            "1\n",
            "12\n",
            "123\n",
            "1234\n",
            "12345\n",
            "123456\n"
          ]
        }
      ]
    }
  ]
}