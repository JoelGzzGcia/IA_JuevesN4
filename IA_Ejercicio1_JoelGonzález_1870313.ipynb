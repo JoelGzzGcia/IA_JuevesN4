{
  "nbformat": 4,
  "nbformat_minor": 0,
  "metadata": {
    "colab": {
      "name": "IA_Ejercicio1_JoelGonzález_1870313.ipynb",
      "provenance": [],
      "collapsed_sections": [],
      "authorship_tag": "ABX9TyMNNMS/h259vH6L5HWP5FY/",
      "include_colab_link": true
    },
    "kernelspec": {
      "name": "python3",
      "display_name": "Python 3"
    },
    "language_info": {
      "name": "python"
    }
  },
  "cells": [
    {
      "cell_type": "markdown",
      "metadata": {
        "id": "view-in-github",
        "colab_type": "text"
      },
      "source": [
        "<a href=\"https://colab.research.google.com/github/JoelGzzGcia/IA_JuevesN4/blob/main/IA_Ejercicio1_JoelGonz%C3%A1lez_1870313.ipynb\" target=\"_parent\"><img src=\"https://colab.research.google.com/assets/colab-badge.svg\" alt=\"Open In Colab\"/></a>"
      ]
    },
    {
      "cell_type": "markdown",
      "metadata": {
        "id": "zrvYitJ3Nwx5"
      },
      "source": [
        "\n",
        "\n",
        "# **Actividad 2.- Ejercicios de Introducción Python**\n",
        "\n",
        "*Facultad de Ingeniería Mecánica y Eléctrica*\n",
        "\n",
        "*Universidad Autónoma de Nuevo León*\n",
        "\n",
        "**Nombre:** Joel González García\n",
        "\n",
        "**Matrícula:** 1870313\n",
        "\n",
        "**Hora de Clase:** N4\n",
        "\n",
        "\n",
        "\n"
      ]
    },
    {
      "cell_type": "code",
      "metadata": {
        "colab": {
          "base_uri": "https://localhost:8080/"
        },
        "id": "DesB8GInfU2U",
        "outputId": "e680bfd0-b822-40d8-cd5f-74d95607f9d7"
      },
      "source": [
        "'''\n",
        "Ejercicio 1: Crear un programa que pregunte al usuario por su nombre, edad, una frase favorita y autor de la frase favorita. El programa deberá de imprimir un mensaje compuesto por el nombre y edad del usuario diciendo que su frase favorita es la que dió anteriormente y el autor de dicha frase es el nombre previamente dado. Aquí habrá que realizar una concatenación de variables\n",
        "'''\n",
        "\n",
        "nombre = input(\"Favor de ingresar su nombre: \")\n",
        "edad = input(\"Favor de ingresar su edad: \")\n",
        "frase_favorita = input(\"¿Cual es su frase favorita? \")\n",
        "autor_frase = input(\"¿Sabe quien es el autor de esa frase? \")\n",
        "\n",
        "print(\"¡Buen día \" + nombre + \"! de la edad de \" + edad + \" años, y como dice el dicho: \" + frase_favorita + \" ¡Qué bella frase! del famoso autor: \" + autor_frase + \".\")\n"
      ],
      "execution_count": 46,
      "outputs": [
        {
          "output_type": "stream",
          "name": "stdout",
          "text": [
            "Favor de ingresar su nombre: Joel Gzz\n",
            "Favor de ingresar su edad: 20\n",
            "¿Cual es su frase favorita? \"Si nadie es especial, entonces puedes ser exactamente lo que quieras ser\"\n",
            "¿Sabe quien es el autor de esa frase? -Yusuke Murata, escritor de Mob Psycho 100\n",
            "¡Buen día Joel Gzz! de la edad de 20 años, y como dice el dicho: \"Si nadie es especial, entonces puedes ser exactamente lo que quieras ser\" ¡Qué bella frase! del famoso autor: -Yusuke Murata, escritor de Mob Psycho 100.\n"
          ]
        }
      ]
    },
    {
      "cell_type": "code",
      "metadata": {
        "colab": {
          "base_uri": "https://localhost:8080/"
        },
        "id": "rLJFHCJ7x-Zz",
        "outputId": "72e87193-2962-43cf-f315-7932bd22b185"
      },
      "source": [
        "'''\n",
        "Ejercicio 2: Crear un programa que le pida al usuario capturar dos números enteros y dos números flotantes. Después, realizará la suma, resta, multiplicación y división, de ambos pares de números. Como resultado se deberán de obtener 8 valores. Imprimir todos estos reultados.\n",
        "'''\n",
        "entero1 = input(\"Favor de ingresar un número entero (cualquier número): \")\n",
        "entero2 = input(\"Favor de ingresar otro número entero: \")\n",
        "flotante1 = input(\"Favor de ingresar un número flotante (Decimal): \")\n",
        "flotante2 = input(\"Favor de ingresar otro número flotante: \")\n",
        "print()\n",
        "\n",
        "for i in [0, 1]:\n",
        "  if i % 2 == 0:\n",
        "    x = int(entero1)\n",
        "    y = int(entero2)\n",
        "  else:\n",
        "    a = float(flotante1)\n",
        "    b = float(flotante2)\n",
        "\n",
        "print(f\" Sumar {x} + {y} nos da {x + y} \")\n",
        "print(f\" Restar {x} - {y} nos da {x - y} \")\n",
        "print(f\" Multiplicar {x} * {y} nos da {x * y} \")\n",
        "print(f\" Dividir {x} / {y} nos da {x / y} \")\n",
        "\n",
        "print(f\" Sumar {a} + {b} nos da {a + b} \")\n",
        "print(f\" Restar {a} - {b} nos da {a - b} \")\n",
        "print(f\" Multiplicar {a} * {b} nos da {a * b} \")\n",
        "print(f\" Dividir {a} / {b} nos da {a / b} \")\n",
        "\n",
        "print()"
      ],
      "execution_count": 47,
      "outputs": [
        {
          "output_type": "stream",
          "name": "stdout",
          "text": [
            "Favor de ingresar un número entero (cualquier número): 581\n",
            "Favor de ingresar otro número entero: 19\n",
            "Favor de ingresar un número flotante (Decimal): 27.49\n",
            "Favor de ingresar otro número flotante: 9.99\n",
            "\n",
            " Sumar 581 + 19 nos da 600 \n",
            " Restar 581 - 19 nos da 562 \n",
            " Multiplicar 581 * 19 nos da 11039 \n",
            " Dividir 581 / 19 nos da 30.57894736842105 \n",
            " Sumar 27.49 + 9.99 nos da 37.48 \n",
            " Restar 27.49 - 9.99 nos da 17.5 \n",
            " Multiplicar 27.49 * 9.99 nos da 274.6251 \n",
            " Dividir 27.49 / 9.99 nos da 2.7517517517517516 \n",
            "\n"
          ]
        }
      ]
    },
    {
      "cell_type": "code",
      "metadata": {
        "colab": {
          "base_uri": "https://localhost:8080/"
        },
        "id": "nCfQEqV8LBo8",
        "outputId": "f67b3e2c-1010-45f0-de8b-8025d9d0ee2d"
      },
      "source": [
        "'''\n",
        "Ejercicio 3: Crear un programa que evalúe dos expresiones lógicas con `and`, dos con `or` y dos con `not`. Cada expresión deberá hacer uso de operadores de comparación. \n",
        "'''\n",
        "num1 = input(\"Favor de ingresar un número: \")\n",
        "num2 = input(\"Favor de ingresar otro número para comparar: \")\n",
        "num3 = input(\"Favor de ingresar un último número para comparar: \")\n",
        "print()\n",
        "\n",
        "print(f\"Sus tres números son todos iguales: {num1 ==  num2 and num2 == num3} \")\n",
        "print(f\"Sus números ordenados de mayor a menor: {num1 >= num2 and num2 >= num3} \")\n",
        "print()\n",
        "\n",
        "print(f\"Su primer número no es el de menor valor: {num1 > num2 or num1 > num3} \")\n",
        "print(f\"Su último número no es el de mayor valor: {num3 < num1 or num3 < num2} \")\n",
        "print()\n",
        "\n",
        "print(f\"Sus números están ordenados de mayor a menor: {not num1 > num2 and not num2 > num3} \")\n",
        "print(f\"Sus números no se repiten entre ellos: {not num1 == num2 and not num2 == num3 and not num1 == num3} \")\n",
        "print()"
      ],
      "execution_count": 45,
      "outputs": [
        {
          "output_type": "stream",
          "name": "stdout",
          "text": [
            "Favor de ingresar un número: 120\n",
            "Favor de ingresar otro número para comparar: 240\n",
            "Favor de ingresar un último número para comparar: 360\n",
            "\n",
            "Sus tres números son todos iguales: False \n",
            "Sus números ordenados de mayor a menor: False \n",
            "\n",
            "Su primer número no es el de menor valor: False \n",
            "Su último número no es el de mayor valor: False \n",
            "\n",
            "Sus números están ordenados de mayor a menor: True \n",
            "Sus números no se repiten entre ellos: True \n",
            "\n"
          ]
        }
      ]
    }
  ]
}