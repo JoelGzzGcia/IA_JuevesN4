{
  "nbformat": 4,
  "nbformat_minor": 0,
  "metadata": {
    "colab": {
      "name": "IA_MedioCurso_JoelGonzález_1870313.ipynb",
      "provenance": [],
      "collapsed_sections": []
    },
    "kernelspec": {
      "name": "python3",
      "display_name": "Python 3"
    },
    "language_info": {
      "name": "python"
    }
  },
  "cells": [
    {
      "cell_type": "markdown",
      "metadata": {
        "id": "y46pgFmHFR8_"
      },
      "source": [
        "# **Examen de Medio Curso**\n",
        "\n",
        "##**Facultad de Ingeniería Mecánica y Eléctrica**\n",
        "\n",
        "##**Universidad Autónoma de Nuevo León**\n",
        "\n",
        "###**Inteligencia Artificial**\n",
        "\n",
        "\n",
        "Joel González García\n",
        "\n",
        "1870313\n",
        "\n",
        "IB 22/09/2021"
      ]
    },
    {
      "cell_type": "markdown",
      "metadata": {
        "id": "WSwejAIRF_G-"
      },
      "source": [
        "14.Desarrollar un código en python para cada uno de los ejercicios:\n",
        "1. Desarrollar un programa que,\n",
        "- Remueva los números pares de la lista:\n",
        "   ex_lista = [10, 15, 17, 21, 22, 34, 37, 40, 45, 52, 66, 68, 81, 84, 91, 94, 102, 105, 109]\n",
        "- Imprima la lista después de remover los números pares. "
      ]
    },
    {
      "cell_type": "code",
      "metadata": {
        "colab": {
          "base_uri": "https://localhost:8080/"
        },
        "id": "Fl2XD6FwF-EB",
        "outputId": "a95912b7-cf51-426c-d4d0-7ef1bb43f7b8"
      },
      "source": [
        "#Lista definida como nos dio el problema:\n",
        "ex_lista = [10, 15, 17, 21, 22, 34, 37, 40, 45, 52, 66, 68, 81, 84, 91, 94, 102, 105, 109]\n",
        "\n",
        "#Identificamos la lista que queremos de resultado:\n",
        "lista = []\n",
        "\n",
        "#Se usa for para navegar los datos de la lista original.\n",
        "for i in ex_lista: \n",
        "\n",
        "#Se usa if para que, si el dato de la lista se divide entre 2 y su residuo es 0, sea identificado.\n",
        "  if i%2:\n",
        "\n",
        "#Una vez que esos números que se pueden dividir entre 2 sin dejar residuo son identificados, son removidos de la lista.\n",
        "    lista.append(i)\n",
        "\n",
        "#Se imprime el resultado.\n",
        "print(lista)"
      ],
      "execution_count": 35,
      "outputs": [
        {
          "output_type": "stream",
          "name": "stdout",
          "text": [
            "[15, 17, 21, 37, 45, 81, 91, 105, 109]\n"
          ]
        }
      ]
    },
    {
      "cell_type": "markdown",
      "metadata": {
        "id": "YCjlJRSsGNFW"
      },
      "source": [
        "2. Desarrollar un programa que,\n",
        "- Pregunte al usuario por sus 5 películas favoritas (dato tipo string), empezando por la mas favorita y terminando en la posición 5 con la menos favorita. \n",
        "- Almacene estos datos en una lista. \n",
        "- Por último, iterar sobre la lista generada para imprimir 5 oraciones (1 con cada título de película) que digan: \"La película [TÍTULO DE PELÍCULA] está en la posición [índice+1] de mi top 5\". \n",
        "      . TÍTULO DE PELÍCULA: corresponde a los nombres almacenados previamente en su lista. \n",
        "      . Recordatorio: Índice es la posición de un elemento dentro de una lista. "
      ]
    },
    {
      "cell_type": "code",
      "metadata": {
        "colab": {
          "base_uri": "https://localhost:8080/"
        },
        "id": "XEfaWZlgI7x8",
        "outputId": "0dc50658-ca4f-46d7-fe1f-e871b857affb"
      },
      "source": [
        "print(\"¿Cuáles son tus 5 películas ordenadas en preferencia? La primera siendo su favorita y la quinta la menos preferida de las 5 \")\n",
        "\n",
        "película = [1,2,3,4,5]\n",
        "i=0\n",
        "while i<5:\n",
        "  película[i] = str(input(\"¿Cuál es de sus películas favoritas? \"))\n",
        "  i=i+1\n",
        "j=1\n",
        "while j<6:\n",
        "  print(\"La película \" + str(película[j-1]) + \" lo puso en el top \" + str(j) + \" de su top 5.\")\n",
        "  j=j+1"
      ],
      "execution_count": 38,
      "outputs": [
        {
          "output_type": "stream",
          "name": "stdout",
          "text": [
            "¿Cuáles son tus 5 películas ordenadas en preferencia? La primera siendo su favorita y la quinta la menos preferida de las 5 \n",
            "¿Cuál es de sus películas favoritas? Los Increíbles\n",
            "¿Cuál es de sus películas favoritas? Atomic Blonde\n",
            "¿Cuál es de sus películas favoritas? Shrek 2\n",
            "¿Cuál es de sus películas favoritas? Misión Imposible: Protocolo Fantasma\n",
            "¿Cuál es de sus películas favoritas? Mad Max: Fury Road\n",
            "La película Los Increíbles lo puso en el top 1 de su top 5.\n",
            "La película Atomic Blonde lo puso en el top 2 de su top 5.\n",
            "La película Shrek 2 lo puso en el top 3 de su top 5.\n",
            "La película Misión Imposible: Protocolo Fantasma lo puso en el top 4 de su top 5.\n",
            "La película Mad Max: Fury Road lo puso en el top 5 de su top 5.\n"
          ]
        }
      ]
    }
  ]
}